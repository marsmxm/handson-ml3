{
 "cells": [
  {
   "cell_type": "code",
   "execution_count": 3,
   "id": "a4bebf90-5fa1-485b-b02e-9b896ea5f00a",
   "metadata": {},
   "outputs": [
    {
     "name": "stdout",
     "output_type": "stream",
     "text": [
      "Zeros and Ones from the Digits dataset: binary classification\n",
      "[1 0 1 1 0 0 0 0 0 1 1 1 0 0 0 1 0 0 0 1 1 1 0 0 1 0 1 0 0 1 1 0 0 0 1 0 1\n",
      " 0 0 1 1 1 0 1 1 0 0 1 1 1 0 1 0 0 1 1 0 1 1 0 0 1 1 0 1 0 1 0 0 0 0 1 1 1\n",
      " 1 0 0 0 1 1 1 1 0 0 1 1 1 0 1 0 1 1 0 0 1 1 1 1 0 1 0 1 0 0 1 0 1 1 0 0 1\n",
      " 1 0 1 0 1 0 0 0 0 1 1 1 0 1 0 1 0 0 0 1 1 0 1 1 1 0 1 0 1 0 1 0 1 1 1 1 0\n",
      " 1 0 1 0 1 0 1 0 1 1 0 0 0 0 1 1 0 0 1 0 0 1 0 1 0 1 1 1 1 0 1 0]\n",
      "[1 0 1 1 0 0 0 0 0 1 1 1 0 0 0 1 0 0 0 1 1 1 0 0 1 0 1 0 0 1 1 0 0 0 1 0 1\n",
      " 0 0 1 1 1 0 1 1 0 0 1 1 1 0 1 0 0 1 1 0 1 1 0 0 1 1 0 1 0 1 0 0 0 0 1 1 1\n",
      " 1 0 0 0 1 1 1 1 0 0 1 1 1 0 1 0 1 1 0 0 1 1 1 1 0 1 0 1 0 0 1 0 1 1 0 0 1\n",
      " 1 0 1 0 1 0 0 0 0 1 1 1 0 0 0 1 0 0 0 1 1 0 1 1 1 0 1 0 1 0 1 0 1 1 1 1 0\n",
      " 1 0 1 0 1 0 1 0 1 1 0 0 0 0 1 1 0 0 1 0 0 1 0 1 0 1 1 1 1 0 1 0]\n",
      "[0 0 1 0 0 1 1 1 0 1 1 1 0 1 0 0 1 0 1 1 0 1 1 0 0 1 1 0 1 0 1 0 1 1 0 0 1\n",
      " 1 1 1 0 0 0 0 1 0 0 0 1 1 1 0 0 1 1 0 1 0 0 0 0 1 1 1 0 1 0 0 1 0 0 1 1 0\n",
      " 1 1 0 1 1 0 0 1 0 1 1 0 0 0 0 0 1 1 1 0 0 1 0 1 0 0 0 1 1 1 1 0 0 1 0 0 1\n",
      " 0 1 0 1 0 0 1 1 1 1 0 0 0 1 1 1 0 0 1 1 0 1 0 1 0 0 0 1 1 0 0 1 1 0 0 0 1\n",
      " 0 0 0 0 0 1 1 1 1 0 0 1 0 1 1 0 1 1 1 1 0 0 0 1 1 1 0 0 1 0 0 1]\n",
      "[0 0 1 0 0 1 1 1 0 1 1 1 0 1 0 0 1 0 1 1 0 1 1 0 0 1 1 0 1 0 1 0 1 1 0 0 1\n",
      " 1 1 1 0 0 0 0 1 0 0 0 1 1 1 0 0 1 1 0 1 0 0 0 0 1 1 1 0 1 0 0 1 0 0 1 1 0\n",
      " 1 1 0 1 1 0 0 1 0 1 1 0 0 0 0 0 1 1 1 0 0 1 0 1 0 0 0 1 1 1 1 0 0 1 0 0 1\n",
      " 0 1 0 1 0 0 1 1 1 1 0 0 0 1 1 1 0 0 1 1 0 1 0 1 0 0 0 1 1 0 0 1 1 0 0 0 0\n",
      " 0 0 0 0 0 1 1 1 0 0 0 1 0 1 1 0 1 1 1 1 0 0 0 1 1 1 0 0 1 0 0 1]\n"
     ]
    }
   ],
   "source": [
    "import pickle\n",
    "\n",
    "import numpy as np\n",
    "from sklearn.datasets import fetch_california_housing, load_digits, load_iris\n",
    "from sklearn.metrics import confusion_matrix, mean_squared_error\n",
    "from sklearn.model_selection import GridSearchCV, KFold, train_test_split\n",
    "\n",
    "import xgboost as xgb\n",
    "\n",
    "rng = np.random.RandomState(31337)\n",
    "\n",
    "print(\"Zeros and Ones from the Digits dataset: binary classification\")\n",
    "digits = load_digits(n_class=2)\n",
    "y = digits[\"target\"]\n",
    "X = digits[\"data\"]\n",
    "kf = KFold(n_splits=2, shuffle=True, random_state=rng)\n",
    "for train_index, test_index in kf.split(X):\n",
    "    xgb_model = xgb.XGBClassifier(n_jobs=1).fit(X[train_index], y[train_index])\n",
    "    predictions = xgb_model.predict(X[test_index])\n",
    "    actuals = y[test_index]\n",
    "    print(actuals)\n",
    "    print(predictions)"
   ]
  },
  {
   "cell_type": "code",
   "execution_count": 5,
   "id": "54c5908e-160d-46cb-b725-fc9aae44f9a0",
   "metadata": {},
   "outputs": [
    {
     "data": {
      "text/plain": [
       "<generator object _BaseKFold.split at 0x18593cba0>"
      ]
     },
     "execution_count": 5,
     "metadata": {},
     "output_type": "execute_result"
    }
   ],
   "source": [
    "kf.split(X)"
   ]
  },
  {
   "cell_type": "code",
   "execution_count": null,
   "id": "96e452a1-25ba-42a5-97fb-a1ac0d5913b5",
   "metadata": {},
   "outputs": [],
   "source": []
  }
 ],
 "metadata": {
  "kernelspec": {
   "display_name": "Python 3 (ipykernel)",
   "language": "python",
   "name": "python3"
  },
  "language_info": {
   "codemirror_mode": {
    "name": "ipython",
    "version": 3
   },
   "file_extension": ".py",
   "mimetype": "text/x-python",
   "name": "python",
   "nbconvert_exporter": "python",
   "pygments_lexer": "ipython3",
   "version": "3.10.16"
  }
 },
 "nbformat": 4,
 "nbformat_minor": 5
}
